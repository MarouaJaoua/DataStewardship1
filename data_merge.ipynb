{
 "cells": [
  {
   "cell_type": "markdown",
   "metadata": {},
   "source": [
    "# Jupyter notebook for merging data sets\n",
    "\n",
    "This jupyter notebook should be used for merging the different datasets we have.   \n",
    "Every person has their own cell where they can prepare their data so it matches the structure we agreed on.  \n",
    "[Format Picture](pandasformat.png) - The two indexes should be named **year** and **country_name**\n",
    "\n",
    "##### Take Note:\n",
    "\n",
    "* Try to name your data variable appropriately (e.g. use initials)\n",
    "* When you commit your changes try to reduce unnecessary jupyter notebook output to a minimum so it is easier for everyone to read the commits on Github"
   ]
  },
  {
   "cell_type": "markdown",
   "metadata": {},
   "source": [
    "## General Imports"
   ]
  },
  {
   "cell_type": "code",
   "execution_count": 12,
   "metadata": {},
   "outputs": [],
   "source": [
    "import numpy as np\n",
    "import pandas as pd\n",
    "import matplotlib.pyplot as plt\n",
    "import seaborn as sns"
   ]
  },
  {
   "cell_type": "markdown",
   "metadata": {},
   "source": [
    "## Data preparation (done individually)"
   ]
  },
  {
   "cell_type": "code",
   "execution_count": null,
   "metadata": {},
   "outputs": [],
   "source": [
    "## Bogensperger Johannes"
   ]
  },
  {
   "cell_type": "code",
   "execution_count": 25,
   "metadata": {},
   "outputs": [],
   "source": [
    "## Stephan Siegl\n",
    "data_ss = pd.read_csv(\"data/characteristics_siegl.csv\")\n",
    "data_ss.rename(columns={\"time\" : \"year\", }, inplace=True)\n",
    "# drop not needed columns\n",
    "data_ss.drop(['time_code', 'country_code'], axis=1, inplace=True)\n",
    "\n",
    "data_ss.set_index([\"year\", \"country_name\"], inplace=True)\n",
    "data_ss.sort_values([\"year\", \"country_name\"], ascending=True, inplace=True)\n",
    "# set .. values to NaN\n",
    "data_ss.replace(\"..\", np.NaN, inplace=True)\n",
    "# change to numeric values\n",
    "data_ss = data_ss.apply(pd.to_numeric)\n",
    "#data_ss.dtypes\n",
    "#fig = plt.figure(figsize=(9, 7))\n",
    "#plt.xticks(range(data_ss.shape[1]), data_ss.columns, fontsize=11)\n",
    "#plt.xticks(rotation=90)\n",
    "#plt.yticks(range(data_ss.shape[1]), data_ss, fontsize=11)\n",
    "#plt.title('Correlation Matrix', fontsize=16)\n",
    "#sns.heatmap(data_ss.corr())\n",
    "#plt.plot()"
   ]
  },
  {
   "cell_type": "code",
   "execution_count": null,
   "metadata": {},
   "outputs": [],
   "source": [
    "## Kohler Kai-Burkhard"
   ]
  },
  {
   "cell_type": "code",
   "execution_count": null,
   "metadata": {},
   "outputs": [],
   "source": [
    "## Jaoua Maroua"
   ]
  },
  {
   "cell_type": "markdown",
   "metadata": {},
   "source": [
    "## Data Merging"
   ]
  },
  {
   "cell_type": "code",
   "execution_count": 27,
   "metadata": {},
   "outputs": [],
   "source": [
    "# merge data according to multiindex year and country_name"
   ]
  }
 ],
 "metadata": {
  "kernelspec": {
   "display_name": "Python 3",
   "language": "python",
   "name": "python3"
  },
  "language_info": {
   "codemirror_mode": {
    "name": "ipython",
    "version": 3
   },
   "file_extension": ".py",
   "mimetype": "text/x-python",
   "name": "python",
   "nbconvert_exporter": "python",
   "pygments_lexer": "ipython3",
   "version": "3.7.3"
  }
 },
 "nbformat": 4,
 "nbformat_minor": 2
}
